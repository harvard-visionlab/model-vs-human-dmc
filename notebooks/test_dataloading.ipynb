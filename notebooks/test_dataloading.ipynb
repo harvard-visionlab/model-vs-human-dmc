{
 "cells": [
  {
   "cell_type": "markdown",
   "id": "0",
   "metadata": {},
   "source": [
    "# Load Data"
   ]
  },
  {
   "cell_type": "code",
   "execution_count": null,
   "id": "1",
   "metadata": {},
   "outputs": [],
   "source": [
    "import os\n",
    "from os.path import join as pjoin\n",
    "import pandas as pd\n",
    "\n",
    "RESULTS_DIR = pjoin(os.environ.get('MODELVSHUMAN_DMC_DIR'), 'outputs', 'results')\n",
    "RESULTS_DIR"
   ]
  },
  {
   "cell_type": "code",
   "execution_count": null,
   "id": "2",
   "metadata": {},
   "outputs": [],
   "source": [
    "ls {RESULTS_DIR}"
   ]
  },
  {
   "cell_type": "code",
   "execution_count": null,
   "id": "3",
   "metadata": {},
   "outputs": [],
   "source": [
    "analysis = 'humanvshuman_splithalves'"
   ]
  },
  {
   "cell_type": "code",
   "execution_count": null,
   "id": "4",
   "metadata": {},
   "outputs": [],
   "source": [
    "ls {RESULTS_DIR}/{analysis}"
   ]
  },
  {
   "cell_type": "code",
   "execution_count": null,
   "id": "5",
   "metadata": {},
   "outputs": [],
   "source": [
    "dataset = 'contrast'"
   ]
  },
  {
   "cell_type": "code",
   "execution_count": null,
   "id": "6",
   "metadata": {},
   "outputs": [],
   "source": [
    "ls {RESULTS_DIR}/{analysis}/{dataset}"
   ]
  },
  {
   "cell_type": "code",
   "execution_count": null,
   "id": "7",
   "metadata": {},
   "outputs": [],
   "source": [
    "filename = f'{RESULTS_DIR}/{analysis}/{dataset}/humanvshuman_splithalves_{dataset}.csv'\n",
    "df = pd.read_csv(filename)\n",
    "df"
   ]
  },
  {
   "cell_type": "code",
   "execution_count": null,
   "id": "8",
   "metadata": {},
   "outputs": [],
   "source": [
    "filename = f'{RESULTS_DIR}/{analysis}/{dataset}/humanvshuman_splithalves_{dataset}_summary.csv'\n",
    "df = pd.read_csv(filename)\n",
    "df"
   ]
  },
  {
   "cell_type": "code",
   "execution_count": null,
   "id": "9",
   "metadata": {},
   "outputs": [],
   "source": [
    "from itertools import combinations, product\n",
    "\n",
    "# Generate all unique pairs\n",
    "pairs = list(combinations(subjects, 2))\n",
    "pairs"
   ]
  },
  {
   "cell_type": "code",
   "execution_count": null,
   "id": "10",
   "metadata": {},
   "outputs": [],
   "source": [
    "import numpy as np\n",
    "from itertools import combinations, product\n",
    "subs1 = np.array(['subA', 'subB', 'subC'])\n",
    "subs2 = np.array(['subA', 'subB', 'subC'])\n",
    "if (subs1 == subs2).all():\n",
    "    pairs = list(combinations(subs1, 2))\n",
    "pairs"
   ]
  },
  {
   "cell_type": "code",
   "execution_count": null,
   "id": "11",
   "metadata": {},
   "outputs": [],
   "source": [
    "from itertools import combinations, product\n",
    "subs1 = np.array(['subA', 'subB', 'subC'])\n",
    "subs2 = np.array(['modelA', 'modelB', 'modelC'])\n",
    "if (subs1 == subs2).all():\n",
    "    pairs = list(combinations(subs1, 2))\n",
    "else:\n",
    "    pairs = list(product(subs1, subs2))\n",
    "pairs"
   ]
  },
  {
   "cell_type": "code",
   "execution_count": null,
   "id": "12",
   "metadata": {},
   "outputs": [],
   "source": [
    "import pandas as pd\n",
    "\n",
    "filename = '/n/holylabs/LABS/alvarez_lab/Users/alvarez/Projects/model-vs-human-dmc/outputs/raw-data/edge/edge_alexnet_session-1.csv'\n",
    "df = pd.read_csv(filename, skipinitialspace=True, encoding='utf-8')\n",
    "df"
   ]
  },
  {
   "cell_type": "code",
   "execution_count": null,
   "id": "13",
   "metadata": {},
   "outputs": [],
   "source": [
    "with open(filename, 'r') as f:\n",
    "    lines = f.readlines()\n",
    "    keys = lines[0].split(\",\")\n",
    "    for line in lines[1:]:\n",
    "        break\n",
    "line"
   ]
  },
  {
   "cell_type": "code",
   "execution_count": null,
   "id": "14",
   "metadata": {},
   "outputs": [],
   "source": [
    "cat /n/holylabs/LABS/alvarez_lab/Users/alvarez/Projects/model-vs-human-dmc/outputs/raw-data/edge/edge_alexnet_session-1.csv"
   ]
  },
  {
   "cell_type": "code",
   "execution_count": null,
   "id": "15",
   "metadata": {},
   "outputs": [],
   "source": [
    "from modelvshuman_dmc.analysis.data import load_models\n",
    "from itertools import combinations\n",
    "\n",
    "subjects = [\"alexnet\", \"resnet50\", \"bagnet33\", \"simclr_resnet50x1\", \"vit_b_16\", \"convnext_large\"]\n",
    "pairs = sorted([tuple(sorted(pair)) for pair in list(combinations(subjects, 2))], key=lambda x: x[0][0])\n",
    "pairs"
   ]
  },
  {
   "cell_type": "code",
   "execution_count": null,
   "id": "16",
   "metadata": {},
   "outputs": [],
   "source": [
    "subjects = [\"alexnet\", \"resnet50\", \"bagnet33\", \"simclr_resnet50x1\", \"vit_b_16\", \"convnext_large\"]\n",
    "pairs = list(combinations(subjects, 2))\n",
    "pairs"
   ]
  },
  {
   "cell_type": "markdown",
   "id": "17",
   "metadata": {},
   "source": [
    "# load modelvsmodel decision margin consistency"
   ]
  },
  {
   "cell_type": "code",
   "execution_count": null,
   "id": "18",
   "metadata": {},
   "outputs": [],
   "source": [
    "from modelvshuman_dmc.analysis.data import load_modelvsmodel_results, load_modelvsmodel_summary\n",
    "\n",
    "analysis = \"modelvsmodel_pairwise_decision_margin_consistency\"\n",
    "collection = \"demo\"\n",
    "dataset = \"edge\"\n",
    "df = load_modelvsmodel_results(analysis, collection, dataset)\n",
    "df"
   ]
  },
  {
   "cell_type": "code",
   "execution_count": null,
   "id": "19",
   "metadata": {},
   "outputs": [],
   "source": [
    "summary = load_modelvsmodel_summary(analysis, collection, dataset)\n",
    "summary"
   ]
  },
  {
   "cell_type": "code",
   "execution_count": null,
   "id": "20",
   "metadata": {},
   "outputs": [],
   "source": []
  }
 ],
 "metadata": {
  "kernelspec": {
   "display_name": "modelvshuman",
   "language": "python",
   "name": "modelvshuman"
  },
  "language_info": {
   "codemirror_mode": {
    "name": "ipython",
    "version": 3
   },
   "file_extension": ".py",
   "mimetype": "text/x-python",
   "name": "python",
   "nbconvert_exporter": "python",
   "pygments_lexer": "ipython3",
   "version": "3.10.12"
  }
 },
 "nbformat": 4,
 "nbformat_minor": 5
}
